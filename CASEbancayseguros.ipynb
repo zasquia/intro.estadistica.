{
 "cells": [
  {
   "cell_type": "markdown",
   "id": "967211c7-3a47-4b56-94eb-37ccd31a5071",
   "metadata": {},
   "source": [
    "# Introducción a la Estadística - Simuladores -  by M.Sc. Emerson D. Norabuena\n",
    "- Análisis exploratorio del Crédito Bancario "
   ]
  },
  {
   "cell_type": "markdown",
   "id": "b386fac4-3b00-4104-978d-a787202bef63",
   "metadata": {},
   "source": [
    "## Acerca del conjunto de datos\n",
    "\n",
    "Contexto\n",
    "\n",
    "Este es el conjunto de datos utilizado en la sección \"procesamiento y organización de datos, distribución de fecuencias y tablas\" del curso de introducción a la Estadística. El conjunto de datos es muy útil para los estudiantes en el aprendizaje automático y es un campo de juego sencillo donde comparar varias técnicas/habilidades.\n",
    "\n",
    "Se puede descargar gratuitamente aquí: https://www.superdatascience.com/deep-learning/\n",
    "\n",
    "Objetivo de estudio:\n",
    "El área de banca y seguros del BCP tiene el objetivo de analizar la tasa de clientes que abandonan el banco, para ello es necesario evaluar el conjunto de datos  de 42 registros para investigar y  predecir que clientes que  tienen más probabilidades de abandonar el banco pronto.\n",
    "\n",
    "Los atributos de esta dataset es:\n",
    "\n",
    "1. EstimatedSalary\n",
    "   Diaria($)\n",
    "\n",
    "\n",
    "Conten:\n",
    "1. Load and Check Data\n",
    "1. Data Visualization\n",
    "1. Feature Engineering\n",
    "1. Modeling Train - Test Split\n",
    "1. Standardization"
   ]
  },
  {
   "cell_type": "code",
   "execution_count": 1,
   "id": "5a756c57-deb7-4ac5-a831-0e56209c59cd",
   "metadata": {},
   "outputs": [],
   "source": [
    "import numpy as np\n",
    "import pandas as pd\n",
    "import math"
   ]
  },
  {
   "cell_type": "code",
   "execution_count": 2,
   "id": "9d5515f5-f90b-489d-b157-7e6e2334643b",
   "metadata": {},
   "outputs": [],
   "source": [
    " EstimatedSalary = np.array(\n",
    "    [[15, 38, 14, 13, 29, 25], [20, 11, 16, 32, 44, 39],\n",
    "     [45, 46, 19, 23, 24, 18], [19, 20, 21, 18, 25, 33],\n",
    "     [13, 18, 22, 24, 27, 27],[19, 20, 21, 18, 25, 33],\n",
    "     [13, 18, 22, 24, 27, 27]]\n",
    "    )"
   ]
  },
  {
   "cell_type": "code",
   "execution_count": 3,
   "id": "18ef9bd9-20c3-43eb-8d50-9dec5cdfda6e",
   "metadata": {},
   "outputs": [],
   "source": [
    "datos = EstimatedSalary[:,:].flatten() "
   ]
  },
  {
   "cell_type": "code",
   "execution_count": 4,
   "id": "974b6e74-0d78-4d92-9c12-07a33d3e3b3b",
   "metadata": {},
   "outputs": [],
   "source": [
    "# Paso 03: Regla de Sturges\n",
    "k = 1 + 3.32 * math.log10(len(datos))\n",
    "periodos = math.ceil(k)"
   ]
  },
  {
   "cell_type": "code",
   "execution_count": 5,
   "id": "9bd523e6-1dfb-4b7f-a9ad-a11401cb80bf",
   "metadata": {},
   "outputs": [],
   "source": [
    "inf = datos.min()        # Límite inferior del primer intervalo\n",
    "dif = datos.max()\n",
    "sup = datos.max() + 1    # Límite superior del último intervalo"
   ]
  },
  {
   "cell_type": "code",
   "execution_count": 6,
   "id": "b8aab60a-5b11-420f-ab7d-ece642606503",
   "metadata": {},
   "outputs": [],
   "source": [
    "intervals = pd.interval_range(\n",
    "    start=inf,\n",
    "    end=sup,\n",
    "    periods=k,\n",
    "    name=\"EstimatedSalary ($)\",\n",
    "    closed=\"left\")"
   ]
  },
  {
   "cell_type": "code",
   "execution_count": 7,
   "id": "8339a78d-9b19-4b43-b6c0-471553e4e6a3",
   "metadata": {
    "scrolled": true
   },
   "outputs": [],
   "source": [
    "df = pd.DataFrame(index=intervals)\n",
    "df[\"Marca de clase\"]  = df.index.mid\n",
    "df[\"fi\"] = pd.cut(datos, bins=df.index, right=False).value_counts()\n",
    "df[\"FI\"] = df[\"fi\"].cumsum()\n",
    "df[\"hi\"] = df[\"fi\"] / len(datos)\n",
    "df[\"HI\"] = df[\"hi\"].cumsum()"
   ]
  },
  {
   "cell_type": "code",
   "execution_count": 8,
   "id": "b207394f-e988-42d5-80da-a87dabc4970f",
   "metadata": {},
   "outputs": [
    {
     "data": {
      "text/html": [
       "<div>\n",
       "<style scoped>\n",
       "    .dataframe tbody tr th:only-of-type {\n",
       "        vertical-align: middle;\n",
       "    }\n",
       "\n",
       "    .dataframe tbody tr th {\n",
       "        vertical-align: top;\n",
       "    }\n",
       "\n",
       "    .dataframe thead th {\n",
       "        text-align: right;\n",
       "    }\n",
       "</style>\n",
       "<table border=\"1\" class=\"dataframe\">\n",
       "  <thead>\n",
       "    <tr style=\"text-align: right;\">\n",
       "      <th></th>\n",
       "      <th>Marca de clase</th>\n",
       "      <th>fi</th>\n",
       "      <th>FI</th>\n",
       "      <th>hi</th>\n",
       "      <th>HI</th>\n",
       "    </tr>\n",
       "    <tr>\n",
       "      <th>EstimatedSalary ($)</th>\n",
       "      <th></th>\n",
       "      <th></th>\n",
       "      <th></th>\n",
       "      <th></th>\n",
       "      <th></th>\n",
       "    </tr>\n",
       "  </thead>\n",
       "  <tbody>\n",
       "    <tr>\n",
       "      <th>[11, 17)</th>\n",
       "      <td>14.0</td>\n",
       "      <td>7</td>\n",
       "      <td>7</td>\n",
       "      <td>0.166667</td>\n",
       "      <td>0.166667</td>\n",
       "    </tr>\n",
       "    <tr>\n",
       "      <th>[17, 23)</th>\n",
       "      <td>20.0</td>\n",
       "      <td>15</td>\n",
       "      <td>22</td>\n",
       "      <td>0.357143</td>\n",
       "      <td>0.523810</td>\n",
       "    </tr>\n",
       "    <tr>\n",
       "      <th>[23, 29)</th>\n",
       "      <td>26.0</td>\n",
       "      <td>11</td>\n",
       "      <td>33</td>\n",
       "      <td>0.261905</td>\n",
       "      <td>0.785714</td>\n",
       "    </tr>\n",
       "    <tr>\n",
       "      <th>[29, 35)</th>\n",
       "      <td>32.0</td>\n",
       "      <td>4</td>\n",
       "      <td>37</td>\n",
       "      <td>0.095238</td>\n",
       "      <td>0.880952</td>\n",
       "    </tr>\n",
       "    <tr>\n",
       "      <th>[35, 41)</th>\n",
       "      <td>38.0</td>\n",
       "      <td>2</td>\n",
       "      <td>39</td>\n",
       "      <td>0.047619</td>\n",
       "      <td>0.928571</td>\n",
       "    </tr>\n",
       "    <tr>\n",
       "      <th>[41, 47)</th>\n",
       "      <td>44.0</td>\n",
       "      <td>3</td>\n",
       "      <td>42</td>\n",
       "      <td>0.071429</td>\n",
       "      <td>1.000000</td>\n",
       "    </tr>\n",
       "  </tbody>\n",
       "</table>\n",
       "</div>"
      ],
      "text/plain": [
       "                     Marca de clase  fi  FI        hi        HI\n",
       "EstimatedSalary ($)                                            \n",
       "[11, 17)                       14.0   7   7  0.166667  0.166667\n",
       "[17, 23)                       20.0  15  22  0.357143  0.523810\n",
       "[23, 29)                       26.0  11  33  0.261905  0.785714\n",
       "[29, 35)                       32.0   4  37  0.095238  0.880952\n",
       "[35, 41)                       38.0   2  39  0.047619  0.928571\n",
       "[41, 47)                       44.0   3  42  0.071429  1.000000"
      ]
     },
     "execution_count": 8,
     "metadata": {},
     "output_type": "execute_result"
    }
   ],
   "source": [
    "df"
   ]
  }
 ],
 "metadata": {
  "kernelspec": {
   "display_name": "Python 3 (ipykernel)",
   "language": "python",
   "name": "python3"
  },
  "language_info": {
   "codemirror_mode": {
    "name": "ipython",
    "version": 3
   },
   "file_extension": ".py",
   "mimetype": "text/x-python",
   "name": "python",
   "nbconvert_exporter": "python",
   "pygments_lexer": "ipython3",
   "version": "3.11.7"
  }
 },
 "nbformat": 4,
 "nbformat_minor": 5
}
