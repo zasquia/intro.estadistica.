{
 "cells": [
  {
   "cell_type": "markdown",
   "id": "c1f4835c",
   "metadata": {},
   "source": [
    "# Introducción a la Estadística - Simuladores -  by M.Sc. Emerson D. Norabuena\n",
    "- Análisis exploratorio del Crédito Bancario "
   ]
  },
  {
   "attachments": {},
   "cell_type": "markdown",
   "id": "7ab93e55",
   "metadata": {},
   "source": [
    "## Acerca del conjunto de datos\n",
    "\n",
    "Contexto\n",
    "\n",
    "Este es el conjunto de datos utilizado en la sección \"procesamiento y organización de datos, distribución de fecuencias y tablas\" del curso de introducción a la Estadística. El conjunto de datos es muy útil para los estudiantes en el aprendizaje automático y es un campo de juego sencillo donde comparar varias técnicas/habilidades.\n",
    "\n",
    "Se puede descargar gratuitamente aquí: https://www.superdatascience.com/deep-learning/\n",
    "\n",
    "Objetivo de estudio:\n",
    "El área de banca y seguros del BCP tiene el objetivo de analizar la tasa de clientes que abandonan el banco, para ello es necesario evaluar el conjunto de datos  de 10.000 registros para investigar y  predecir que clientes que  tienen más probabilidades de abandonar el banco pronto.\n",
    "\n",
    "Los atributos de esta dataset es:\n",
    "\n",
    "1. RowNumber\n",
    "1. CustomerId\n",
    "1. Surname\n",
    "1. CreditScore\n",
    "1. Geography\n",
    "1. Gender\n",
    "1. Age\n",
    "1. Tenure\n",
    "1. Balance\n",
    "1. NumOfProducts\n",
    "1. HasCrCard\n",
    "1. IsActiveMember\n",
    "1. EstimatedSalary\n",
    "1. Exited\n",
    "\n",
    "Conten:\n",
    "1. Load and Check Data\n",
    "1. Data Visualization\n",
    "1. Feature Engineering\n",
    "1. Modeling Train - Test Split\n",
    "1. Standardization"
   ]
  },
  {
   "cell_type": "code",
   "execution_count": null,
   "id": "806ea85f",
   "metadata": {
    "ExecuteTime": {
     "end_time": "2024-03-04T16:52:54.584488Z",
     "start_time": "2024-03-04T16:52:47.465910Z"
    },
    "scrolled": true
   },
   "outputs": [],
   "source": [
    "#Importación de paquetes \n",
    "\n",
    "import numpy as np\n",
    "import pandas as pd \n",
    "import matplotlib.pyplot as plt\n",
    "%matplotlib inline\n",
    "\n",
    "import seaborn as sns\n",
    "sns.set(palette=\"Set2\")\n",
    "from sklearn.preprocessing import LabelEncoder\n",
    "\n"
   ]
  },
  {
   "cell_type": "markdown",
   "id": "453aac56",
   "metadata": {},
   "source": [
    "1. Load and Check Data"
   ]
  },
  {
   "cell_type": "code",
   "execution_count": null,
   "id": "61ea78ea",
   "metadata": {
    "ExecuteTime": {
     "end_time": "2024-03-04T17:32:53.066139Z",
     "start_time": "2024-03-04T17:32:53.034498Z"
    },
    "scrolled": true
   },
   "outputs": [],
   "source": [
    "# data=pd.read_csv(\"C:/Users/Nor4buena/Documents/Notebooks/Churn_Modelling.csv\")\n",
    " \n",
    "data = pd.read_csv('https://raw.githubusercontent.com/Emerson2021/2023/main/Churn_Modelling.csv', sep=',')"
   ]
  },
  {
   "cell_type": "code",
   "execution_count": null,
   "id": "cb76c536",
   "metadata": {
    "ExecuteTime": {
     "end_time": "2024-03-04T17:32:55.056294Z",
     "start_time": "2024-03-04T17:32:55.040883Z"
    },
    "scrolled": true
   },
   "outputs": [],
   "source": [
    "data.head()"
   ]
  },
  {
   "cell_type": "code",
   "execution_count": null,
   "id": "1a722e66",
   "metadata": {
    "ExecuteTime": {
     "end_time": "2024-03-04T17:56:02.981519Z",
     "start_time": "2024-03-04T17:56:02.972435Z"
    },
    "scrolled": true
   },
   "outputs": [],
   "source": [
    "data.shape"
   ]
  },
  {
   "cell_type": "code",
   "execution_count": null,
   "id": "e4a37826",
   "metadata": {
    "ExecuteTime": {
     "end_time": "2024-03-04T18:01:55.581697Z",
     "start_time": "2024-03-04T18:01:55.569132Z"
    },
    "scrolled": true
   },
   "outputs": [],
   "source": [
    "data.info"
   ]
  },
  {
   "cell_type": "code",
   "execution_count": null,
   "id": "56504d96-9329-4bec-82fa-3ce2fa81fcd4",
   "metadata": {},
   "outputs": [],
   "source": [
    "le = LabelEncoder()\n",
    "data[\"Gender\"] = le.fit_transform(data[\"Gender\"])\n",
    "data[\"Geography\"] = le.fit_transform(data[\"Geography\"])"
   ]
  },
  {
   "cell_type": "code",
   "execution_count": null,
   "id": "c6662720-29bb-4937-b58c-9c9127d004d6",
   "metadata": {},
   "outputs": [],
   "source": [
    "data"
   ]
  },
  {
   "cell_type": "markdown",
   "id": "6958897c",
   "metadata": {},
   "source": [
    "2. Data Visualization"
   ]
  },
  {
   "cell_type": "code",
   "execution_count": null,
   "id": "dc4005e3-86a3-4be0-b3f7-9326baf7c1bd",
   "metadata": {},
   "outputs": [],
   "source": [
    "sns.pairplot(data, hue=\"Gender\")\n",
    "plt.show()"
   ]
  },
  {
   "cell_type": "code",
   "execution_count": null,
   "id": "f38e1428-7fb5-4875-a1f6-191efcffddd1",
   "metadata": {},
   "outputs": [],
   "source": []
  }
 ],
 "metadata": {
  "hide_input": false,
  "kernelspec": {
   "display_name": "Python 3 (ipykernel)",
   "language": "python",
   "name": "python3"
  },
  "language_info": {
   "codemirror_mode": {
    "name": "ipython",
    "version": 3
   },
   "file_extension": ".py",
   "mimetype": "text/x-python",
   "name": "python",
   "nbconvert_exporter": "python",
   "pygments_lexer": "ipython3",
   "version": "3.11.7"
  },
  "nbTranslate": {
   "displayLangs": [
    "*"
   ],
   "hotkey": "alt-t",
   "langInMainMenu": true,
   "sourceLang": "en",
   "targetLang": "fr",
   "useGoogleTranslate": true
  },
  "toc": {
   "base_numbering": 1,
   "nav_menu": {},
   "number_sections": true,
   "sideBar": true,
   "skip_h1_title": false,
   "title_cell": "Table of Contents",
   "title_sidebar": "Contents",
   "toc_cell": false,
   "toc_position": {},
   "toc_section_display": true,
   "toc_window_display": false
  },
  "varInspector": {
   "cols": {
    "lenName": 16,
    "lenType": 16,
    "lenVar": 40
   },
   "kernels_config": {
    "python": {
     "delete_cmd_postfix": "",
     "delete_cmd_prefix": "del ",
     "library": "var_list.py",
     "varRefreshCmd": "print(var_dic_list())"
    },
    "r": {
     "delete_cmd_postfix": ") ",
     "delete_cmd_prefix": "rm(",
     "library": "var_list.r",
     "varRefreshCmd": "cat(var_dic_list()) "
    }
   },
   "types_to_exclude": [
    "module",
    "function",
    "builtin_function_or_method",
    "instance",
    "_Feature"
   ],
   "window_display": false
  },
  "widgets": {
   "application/vnd.jupyter.widget-state+json": {
    "state": {},
    "version_major": 2,
    "version_minor": 0
   }
  }
 },
 "nbformat": 4,
 "nbformat_minor": 5
}
